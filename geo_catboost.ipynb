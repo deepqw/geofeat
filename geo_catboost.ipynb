{
 "cells": [
  {
   "cell_type": "code",
   "execution_count": null,
   "metadata": {},
   "outputs": [],
   "source": [
    "import pandas as pd\n",
    "import numpy as np\n",
    "from statsmodels.tsa.stattools import adfuller\n",
    "import holidays\n",
    "from collections import Counter\n",
    "\n",
    "from sklearn.experimental import enable_iterative_imputer\n",
    "from sklearn.impute import IterativeImputer\n",
    "from sklearn.model_selection import train_test_split\n",
    "\n",
    "from sklearn.cluster import KMeans\n",
    "from geopy.distance import geodesic # геодезическое расстояние между точками по поверхности Земли\n",
    "\n",
    "from catboost import CatBoostRegressor\n",
    "from sklearn.ensemble import VotingRegressor\n",
    "\n",
    "from sklearn.metrics import mean_squared_error, r2_score, mean_absolute_error\n",
    "\n",
    "import warnings\n",
    "warnings.filterwarnings('ignore')"
   ]
  },
  {
   "cell_type": "markdown",
   "metadata": {},
   "source": [
    "# просмотр данных"
   ]
  },
  {
   "cell_type": "code",
   "execution_count": null,
   "metadata": {},
   "outputs": [],
   "source": [
    "df = pd.read_csv('train.csv')"
   ]
  },
  {
   "cell_type": "code",
   "execution_count": null,
   "metadata": {},
   "outputs": [],
   "source": [
    "len(df)"
   ]
  },
  {
   "cell_type": "code",
   "execution_count": null,
   "metadata": {},
   "outputs": [],
   "source": [
    "df = df.loc[:len(df)//100]\n",
    "len(df)"
   ]
  },
  {
   "cell_type": "code",
   "execution_count": null,
   "metadata": {},
   "outputs": [],
   "source": [
    "df"
   ]
  },
  {
   "cell_type": "markdown",
   "metadata": {},
   "source": [
    "# первичная обработка данных"
   ]
  },
  {
   "cell_type": "code",
   "execution_count": null,
   "metadata": {},
   "outputs": [],
   "source": [
    "df.fare_amount.min(), df.fare_amount.max(), df.fare_amount.mean(), df.fare_amount.median()"
   ]
  },
  {
   "cell_type": "code",
   "execution_count": null,
   "metadata": {},
   "outputs": [],
   "source": [
    "df = df[(df['fare_amount']>=1) & (df['fare_amount']<=df.fare_amount.mean()*10)] # убираем неадектные ценники"
   ]
  },
  {
   "cell_type": "code",
   "execution_count": null,
   "metadata": {},
   "outputs": [],
   "source": [
    "(df.dropoff_longitude.min(), df.dropoff_longitude.max()), (df.pickup_latitude.min(), df.pickup_latitude.max())"
   ]
  },
  {
   "cell_type": "code",
   "execution_count": null,
   "metadata": {},
   "outputs": [],
   "source": [
    "len(df)"
   ]
  },
  {
   "cell_type": "code",
   "execution_count": null,
   "metadata": {},
   "outputs": [],
   "source": [
    "# убираем неверные координаты\n",
    "df = df[(df['dropoff_latitude']<=90) & (df['dropoff_latitude']>=-90) & (df['dropoff_longitude']<=90) & (df['dropoff_longitude']>=-90)]"
   ]
  },
  {
   "cell_type": "code",
   "execution_count": null,
   "metadata": {},
   "outputs": [],
   "source": [
    "# убираем неверные координаты\n",
    "df = df[(df['pickup_latitude']<=90) & (df['pickup_latitude']>=-90) & (df['pickup_longitude']<=90) & (df['pickup_longitude']>=-90)]"
   ]
  },
  {
   "cell_type": "code",
   "execution_count": null,
   "metadata": {},
   "outputs": [],
   "source": [
    "len(df)"
   ]
  },
  {
   "cell_type": "code",
   "execution_count": null,
   "metadata": {},
   "outputs": [],
   "source": [
    "df.info()"
   ]
  },
  {
   "cell_type": "code",
   "execution_count": null,
   "metadata": {},
   "outputs": [],
   "source": [
    "df.isna().sum()"
   ]
  },
  {
   "cell_type": "code",
   "execution_count": null,
   "metadata": {},
   "outputs": [],
   "source": [
    "# заполняем пропуски \n",
    "imp = IterativeImputer(random_state=42)\n",
    "df['dropoff_longitude'] = imp.fit_transform(df['dropoff_longitude'].to_numpy().reshape(len(df), 1))"
   ]
  },
  {
   "cell_type": "code",
   "execution_count": null,
   "metadata": {},
   "outputs": [],
   "source": [
    "# заплняем пропуски\n",
    "imp = IterativeImputer(random_state=42)\n",
    "df['dropoff_latitude'] = imp.fit_transform(df['dropoff_latitude'].to_numpy().reshape(len(df), 1))"
   ]
  },
  {
   "cell_type": "code",
   "execution_count": null,
   "metadata": {},
   "outputs": [],
   "source": [
    "df.isna().sum()"
   ]
  },
  {
   "cell_type": "markdown",
   "metadata": {},
   "source": [
    "# feature engeneering"
   ]
  },
  {
   "cell_type": "code",
   "execution_count": null,
   "metadata": {},
   "outputs": [],
   "source": [
    "# расстояние до центра города\n",
    "moscow_center = (40.646746, -73.789962) # аэропорт нью-йорка\n",
    "df['distance_to_airport'] = df.apply(lambda row: geodesic((row['dropoff_latitude'], row['dropoff_longitude']), moscow_center).km, axis=1)"
   ]
  },
  {
   "cell_type": "code",
   "execution_count": null,
   "metadata": {},
   "outputs": [],
   "source": [
    "# Кластеризация K-средних\n",
    "kmeans = KMeans(n_clusters=4)\n",
    "df['cluster'] = kmeans.fit_predict(df[['dropoff_latitude', 'dropoff_longitude']])"
   ]
  },
  {
   "cell_type": "code",
   "execution_count": null,
   "metadata": {},
   "outputs": [],
   "source": [
    "# Признаки синус-косинус для направления\n",
    "df['lat_sin'] = np.sin(np.radians(df['dropoff_latitude']))\n",
    "df['lat_cos'] = np.cos(np.radians(df['dropoff_latitude']))\n",
    "df['lon_sin'] = np.sin(np.radians(df['dropoff_longitude']))\n",
    "df['lon_cos'] = np.cos(np.radians(df['dropoff_longitude']))"
   ]
  },
  {
   "cell_type": "code",
   "execution_count": null,
   "metadata": {},
   "outputs": [],
   "source": [
    "dist = 1\n",
    "df['airport_indicator'] = df.apply(lambda row: int((row['distance_to_airport'] <= dist)), axis=1)"
   ]
  },
  {
   "cell_type": "code",
   "execution_count": null,
   "metadata": {},
   "outputs": [],
   "source": [
    "# считаем расстояние между конечной и первоначальной точкамиs\n",
    "df['distance'] = df.apply(lambda row: geodesic((row['pickup_latitude'], row['pickup_longitude']), (row['dropoff_latitude'], row['dropoff_longitude'])).km, axis=1)"
   ]
  },
  {
   "cell_type": "code",
   "execution_count": null,
   "metadata": {},
   "outputs": [],
   "source": [
    "# приведение к времени нью йорка\n",
    "df['pickup_datetime'] = pd.to_datetime(df['pickup_datetime']).dt.tz_convert('America/New_York')\n",
    "df['pickup_datetime'] = pd.to_datetime(df['pickup_datetime']).dt.tz_convert(None)\n",
    "df.info()"
   ]
  },
  {
   "cell_type": "code",
   "execution_count": null,
   "metadata": {},
   "outputs": [],
   "source": [
    "# определение является ли день праздником в сша\n",
    "us_holidays = holidays.US()\n",
    "\n",
    "def is_holiday(date):\n",
    "    return int(date in us_holidays)\n",
    "\n",
    "df['is_holiday'] = df['pickup_datetime'].dt.date.apply(is_holiday)"
   ]
  },
  {
   "cell_type": "code",
   "execution_count": null,
   "metadata": {},
   "outputs": [],
   "source": [
    "# определение дня недели\n",
    "df['weekday'] = df['pickup_datetime'].dt.weekday\n",
    "# Создаем новые колонки\n",
    "df['minute'] = df['pickup_datetime'].dt.minute\n",
    "df['hour'] = df['pickup_datetime'].dt.hour\n",
    "df['day'] = df['pickup_datetime'].dt.day\n",
    "df['month'] = df['pickup_datetime'].dt.month\n",
    "df['year'] = df['pickup_datetime'].dt.year"
   ]
  },
  {
   "cell_type": "code",
   "execution_count": null,
   "metadata": {},
   "outputs": [],
   "source": [
    "# Извлечение даты и часа\n",
    "df['date'] = df['pickup_datetime'].dt.date\n",
    "\n",
    "# Подсчёт количества поездок по датам и часам\n",
    "hourly_load = df.groupby(['date', 'hour']).size().reset_index(name='load')\n",
    "\n",
    "# Объединение исходного датафрейма с данными о загрузке\n",
    "df = pd.merge(df, hourly_load, on=['date', 'hour'], how='left')"
   ]
  },
  {
   "cell_type": "code",
   "execution_count": null,
   "metadata": {},
   "outputs": [],
   "source": [
    "df"
   ]
  },
  {
   "cell_type": "code",
   "execution_count": null,
   "metadata": {},
   "outputs": [],
   "source": [
    "# удаление ненужных колонок\n",
    "# df.drop(columns=['pickup_datetime', 'pickup_longitude', 'pickup_latitude', 'dropoff_longitude',\t'dropoff_latitude'], inplace=True)\n",
    "df.drop(columns=['pickup_datetime', 'date'], inplace=True)"
   ]
  },
  {
   "cell_type": "code",
   "execution_count": null,
   "metadata": {},
   "outputs": [],
   "source": [
    "# df.drop(columns=['load'], inplace=True)"
   ]
  },
  {
   "cell_type": "code",
   "execution_count": null,
   "metadata": {},
   "outputs": [],
   "source": [
    "df"
   ]
  },
  {
   "cell_type": "markdown",
   "metadata": {},
   "source": [
    "# подготовка данных для обучения"
   ]
  },
  {
   "cell_type": "code",
   "execution_count": null,
   "metadata": {},
   "outputs": [],
   "source": [
    "X = df.drop(columns=['fare_amount', 'key'])\n",
    "X"
   ]
  },
  {
   "cell_type": "code",
   "execution_count": null,
   "metadata": {},
   "outputs": [],
   "source": [
    "y = df['fare_amount']\n",
    "y"
   ]
  },
  {
   "cell_type": "code",
   "execution_count": null,
   "metadata": {},
   "outputs": [],
   "source": [
    "quantile_bins = pd.qcut(y, q=20, precision=1, labels=False)\n",
    "quantile_bins.head(), quantile_bins.tail()"
   ]
  },
  {
   "cell_type": "code",
   "execution_count": null,
   "metadata": {},
   "outputs": [],
   "source": [
    "X_train, X_test, y_train, y_test = train_test_split(X, y, test_size=0.2, random_state=42, stratify=quantile_bins)"
   ]
  },
  {
   "cell_type": "markdown",
   "metadata": {},
   "source": [
    "# создание модели"
   ]
  },
  {
   "cell_type": "markdown",
   "metadata": {},
   "source": [
    "## base catboost"
   ]
  },
  {
   "cell_type": "code",
   "execution_count": null,
   "metadata": {},
   "outputs": [],
   "source": [
    "cat_base = CatBoostRegressor(\n",
    "    iterations=10000,    \n",
    "    depth=None,\n",
    "    eval_metric='RMSE',     # Метрика качества для регрессии\n",
    "    random_seed=42,         # Сид для повторяемости результатов\n",
    "    od_wait=1000,\n",
    "    use_best_model=True,    \n",
    "    verbose=200,             # Частота вывода информации о процессе обучения\n",
    "    task_type='CPU'\n",
    ")"
   ]
  },
  {
   "cell_type": "code",
   "execution_count": null,
   "metadata": {},
   "outputs": [],
   "source": [
    "cat_base.fit(X_train, y_train, eval_set=(X_test, y_test))"
   ]
  },
  {
   "cell_type": "code",
   "execution_count": null,
   "metadata": {},
   "outputs": [],
   "source": [
    "predictions = cat_base.predict(X_test)"
   ]
  },
  {
   "cell_type": "code",
   "execution_count": null,
   "metadata": {},
   "outputs": [],
   "source": [
    "mean_squared_error(y_test, predictions, squared=False), mean_squared_error(y_test, predictions), r2_score(y_test, predictions)"
   ]
  },
  {
   "cell_type": "markdown",
   "metadata": {},
   "source": [
    "## catboosts ensemle"
   ]
  },
  {
   "cell_type": "code",
   "execution_count": null,
   "metadata": {},
   "outputs": [],
   "source": [
    "X_train_1, X_train_2, y_train_1, y_train_2 = train_test_split(X_train,\n",
    "                                                                y_train,\n",
    "                                                                test_size=0.5, \n",
    "                                                                random_state=42)"
   ]
  },
  {
   "cell_type": "code",
   "execution_count": null,
   "metadata": {},
   "outputs": [],
   "source": [
    "X_train_11, X_train_12, y_train_11, y_train_12 = train_test_split(X_train_1,\n",
    "                                                                y_train_1,\n",
    "                                                                test_size=0.5, \n",
    "                                                                random_state=42)"
   ]
  },
  {
   "cell_type": "code",
   "execution_count": null,
   "metadata": {},
   "outputs": [],
   "source": [
    "X_train_21, X_train_22, y_train_21, y_train_22 = train_test_split(X_train_2,\n",
    "                                                                y_train_2,\n",
    "                                                                test_size=0.5, \n",
    "                                                                random_state=42)"
   ]
  },
  {
   "cell_type": "code",
   "execution_count": null,
   "metadata": {},
   "outputs": [],
   "source": [
    "model_1 = CatBoostRegressor(iterations=1000, depth=8, random_seed=42, verbose=0, task_type='GPU')\n",
    "model_1.fit(X_train_11, y_train_11)"
   ]
  },
  {
   "cell_type": "code",
   "execution_count": null,
   "metadata": {},
   "outputs": [],
   "source": [
    "model_2 = CatBoostRegressor(iterations=1000, depth=6, random_seed=42, verbose=0, task_type='GPU')\n",
    "model_2.fit(X_train_12, y_train_12)"
   ]
  },
  {
   "cell_type": "code",
   "execution_count": null,
   "metadata": {},
   "outputs": [],
   "source": [
    "model_3 = CatBoostRegressor(iterations=1000, depth=10, random_seed=42, verbose=0, task_type='GPU')\n",
    "model_3.fit(X_train_21, y_train_21)"
   ]
  },
  {
   "cell_type": "code",
   "execution_count": null,
   "metadata": {},
   "outputs": [],
   "source": [
    "model_4 = CatBoostRegressor(iterations=1000, depth=12, random_seed=42, verbose=0, task_type='GPU')\n",
    "model_4.fit(X_train_22, y_train_22)"
   ]
  },
  {
   "cell_type": "code",
   "execution_count": null,
   "metadata": {},
   "outputs": [],
   "source": [
    "ensemble_model_voting = VotingRegressor(estimators=[\n",
    "    ('catboost_1', model_1),\n",
    "    ('catboost_2', model_2),\n",
    "    ('catboost_3', model_3),\n",
    "    ('catboost_4', model_4)],\n",
    "    # n_jobs=-1\n",
    "    )\n",
    "\n",
    "# Обучение ансамбля\n",
    "ensemble_model_voting.fit(X_train, y_train)"
   ]
  },
  {
   "cell_type": "code",
   "execution_count": null,
   "metadata": {},
   "outputs": [],
   "source": [
    "predictions = ensemble_model_voting.predict(X_test)\n",
    "mean_squared_error(y_test, predictions, squared=False), mean_squared_error(y_test, predictions), r2_score(y_test, predictions)"
   ]
  },
  {
   "cell_type": "markdown",
   "metadata": {},
   "source": [
    "# создание предикта"
   ]
  },
  {
   "cell_type": "code",
   "execution_count": null,
   "metadata": {},
   "outputs": [],
   "source": [
    "pred_df = pd.read_csv('test.csv')\n",
    "pred_df"
   ]
  },
  {
   "cell_type": "code",
   "execution_count": null,
   "metadata": {},
   "outputs": [],
   "source": [
    "pred_df.isna().sum()"
   ]
  },
  {
   "cell_type": "code",
   "execution_count": null,
   "metadata": {},
   "outputs": [],
   "source": [
    "# расстояние до центра города\n",
    "moscow_center = (40.646746, -73.789962)\n",
    "pred_df['distance_to_airport'] = pred_df.apply(lambda row: geodesic((row['dropoff_latitude'], row['dropoff_longitude']), moscow_center).km, axis=1)"
   ]
  },
  {
   "cell_type": "code",
   "execution_count": null,
   "metadata": {},
   "outputs": [],
   "source": [
    "# Кластеризация K-средних\n",
    "kmeans = KMeans(n_clusters=4)\n",
    "pred_df['cluster'] = kmeans.fit_predict(pred_df[['dropoff_latitude', 'dropoff_longitude']])"
   ]
  },
  {
   "cell_type": "code",
   "execution_count": null,
   "metadata": {},
   "outputs": [],
   "source": [
    "# Признаки синус-косинус для направления\n",
    "pred_df['lat_sin'] = np.sin(np.radians(pred_df['dropoff_latitude']))\n",
    "pred_df['lat_cos'] = np.cos(np.radians(pred_df['dropoff_latitude']))\n",
    "pred_df['lon_sin'] = np.sin(np.radians(pred_df['dropoff_longitude']))\n",
    "pred_df['lon_cos'] = np.cos(np.radians(pred_df['dropoff_longitude']))"
   ]
  },
  {
   "cell_type": "code",
   "execution_count": null,
   "metadata": {},
   "outputs": [],
   "source": [
    "dist = 1\n",
    "pred_df['airport_indicator'] = pred_df.apply(lambda row: int((row['distance_to_airport'] <= dist)), axis=1)"
   ]
  },
  {
   "cell_type": "code",
   "execution_count": null,
   "metadata": {},
   "outputs": [],
   "source": [
    "# считаем расстояние между конечной и первоначальной точкамиs\n",
    "pred_df['distance'] = pred_df.apply(lambda row: geodesic((row['pickup_latitude'], row['pickup_longitude']), (row['dropoff_latitude'], row['dropoff_longitude'])).km, axis=1)"
   ]
  },
  {
   "cell_type": "code",
   "execution_count": null,
   "metadata": {},
   "outputs": [],
   "source": [
    "# приведение к времени нью йорка\n",
    "pred_df['pickup_datetime'] = pd.to_datetime(pred_df['pickup_datetime']).dt.tz_convert('America/New_York')\n",
    "pred_df['pickup_datetime'] = pd.to_datetime(pred_df['pickup_datetime']).dt.tz_convert(None)\n",
    "pred_df.info()"
   ]
  },
  {
   "cell_type": "code",
   "execution_count": null,
   "metadata": {},
   "outputs": [],
   "source": [
    "# определение является ли день праздником в сша\n",
    "us_holidays = holidays.US()\n",
    "\n",
    "def is_holiday(date):\n",
    "    return int(date in us_holidays)\n",
    "\n",
    "pred_df['is_holiday'] = pred_df['pickup_datetime'].dt.date.apply(is_holiday)"
   ]
  },
  {
   "cell_type": "code",
   "execution_count": null,
   "metadata": {},
   "outputs": [],
   "source": [
    "# определение дня недели\n",
    "pred_df['weekday'] = pred_df['pickup_datetime'].dt.weekday\n",
    "# Создаем новые колонки\n",
    "pred_df['minute'] = pred_df['pickup_datetime'].dt.minute\n",
    "pred_df['hour'] = pred_df['pickup_datetime'].dt.hour\n",
    "pred_df['day'] = pred_df['pickup_datetime'].dt.day\n",
    "pred_df['month'] = pred_df['pickup_datetime'].dt.month\n",
    "pred_df['year'] = pred_df['pickup_datetime'].dt.year"
   ]
  },
  {
   "cell_type": "code",
   "execution_count": null,
   "metadata": {},
   "outputs": [],
   "source": [
    "# Извлечение даты и часа\n",
    "pred_df['date'] = pred_df['pickup_datetime'].dt.date\n",
    "\n",
    "# Подсчёт количества поездок по датам и часам\n",
    "hourly_load = pred_df.groupby(['date', 'hour']).size().reset_index(name='load')\n",
    "\n",
    "# Объединение исходного датафрейма с данными о загрузке\n",
    "pred_df = pd.merge(pred_df, hourly_load, on=['date', 'hour'], how='left')"
   ]
  },
  {
   "cell_type": "code",
   "execution_count": null,
   "metadata": {},
   "outputs": [],
   "source": [
    "# удаление ненужных колонок\n",
    "# pred_df.drop(columns=['pickup_datetime', 'pickup_longitude', 'pickup_latitude', 'dropoff_longitude',\t'dropoff_latitude'], inplace=True)\n",
    "pred_df.drop(columns=['pickup_datetime', 'date'], inplace=True)"
   ]
  },
  {
   "cell_type": "code",
   "execution_count": null,
   "metadata": {},
   "outputs": [],
   "source": [
    "pred_df"
   ]
  },
  {
   "cell_type": "code",
   "execution_count": null,
   "metadata": {},
   "outputs": [],
   "source": [
    "pred = ensemble_model_voting.predict(pred_df.drop(columns=['key']))"
   ]
  },
  {
   "cell_type": "code",
   "execution_count": null,
   "metadata": {},
   "outputs": [],
   "source": [
    "sample = pd.read_csv('sample_submission.csv')\n",
    "sample"
   ]
  },
  {
   "cell_type": "code",
   "execution_count": null,
   "metadata": {},
   "outputs": [],
   "source": [
    "sample['fare_amount'] = pred\n",
    "sample"
   ]
  },
  {
   "cell_type": "code",
   "execution_count": null,
   "metadata": {},
   "outputs": [],
   "source": [
    "sample.to_csv('sub.csv', index=False)"
   ]
  },
  {
   "cell_type": "code",
   "execution_count": null,
   "metadata": {},
   "outputs": [],
   "source": []
  }
 ],
 "metadata": {
  "kernelspec": {
   "display_name": "Python 3",
   "language": "python",
   "name": "python3"
  },
  "language_info": {
   "codemirror_mode": {
    "name": "ipython",
    "version": 3
   },
   "file_extension": ".py",
   "mimetype": "text/x-python",
   "name": "python",
   "nbconvert_exporter": "python",
   "pygments_lexer": "ipython3",
   "version": "3.11.6"
  }
 },
 "nbformat": 4,
 "nbformat_minor": 2
}
